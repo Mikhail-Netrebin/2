{
 "cells": [
  {
   "cell_type": "markdown",
   "id": "3d68e9ca",
   "metadata": {},
   "source": [
    "# Проект \"Сборный проект-2\""
   ]
  },
  {
   "cell_type": "markdown",
   "id": "5a95a5c6",
   "metadata": {},
   "source": [
    "## Общая информация"
   ]
  },
  {
   "cell_type": "markdown",
   "id": "b4f0608e",
   "metadata": {},
   "source": [
    "### Исходные данные"
   ]
  },
  {
   "cell_type": "markdown",
   "id": "a2d31216",
   "metadata": {},
   "source": [
    " Файл logs.csv. \n",
    "* EventName — название события;\n",
    "* DeviceIDHash — уникальный идентификатор пользователя;\n",
    "* EventTimestamp — время события;\n",
    "* ExpId — номер эксперимента: 246 и 247 — контрольные группы, а 248 — экспериментальная;\n"
   ]
  },
  {
   "cell_type": "markdown",
   "id": "0e87c14b",
   "metadata": {},
   "source": [
    "### Описание проекта"
   ]
  },
  {
   "cell_type": "markdown",
   "id": "9ce261e4",
   "metadata": {},
   "source": [
    "Вы работаете в стартапе, который продаёт продукты питания. Нужно разобраться, как ведут себя пользователи вашего мобильного приложения. \n",
    "Изучите воронку продаж. Узнайте, как пользователи доходят до покупки. Сколько пользователей доходит до покупки, а сколько — «застревает» на предыдущих шагах? На каких именно?"
   ]
  },
  {
   "cell_type": "markdown",
   "id": "b903c9ce",
   "metadata": {},
   "source": [
    "## Цель проекта:\n",
    "* Проанализировать поведение покупателей\n",
    "* Исследовать результаты A/A/B-эксперимента\n"
   ]
  },
  {
   "cell_type": "markdown",
   "id": "6b4c6856",
   "metadata": {},
   "source": [
    "## План работы:\n",
    "* Предобработка данных\n",
    "* Исследование данных\n",
    "* Изучение воронки событий\n",
    "* Анализ результатов эксперимента\n",
    "* Вывод"
   ]
  },
  {
   "cell_type": "markdown",
   "id": "024e5e38",
   "metadata": {},
   "source": [
    "## Предобработка данных"
   ]
  },
  {
   "cell_type": "code",
   "execution_count": 1,
   "id": "5da0446d",
   "metadata": {},
   "outputs": [],
   "source": [
    "# Импортируем библиотеки\n",
    "import pandas as pd\n",
    "import scipy.stats as stats\n",
    "import datetime as dt\n",
    "import numpy as np\n",
    "import matplotlib.pyplot as plt# Проект \"Принятие решений в бизнесе\""
   ]
  },
  {
   "cell_type": "code",
   "execution_count": 2,
   "id": "803ae1d2",
   "metadata": {},
   "outputs": [],
   "source": [
    "try:\n",
    "    logs = pd.read_csv('C:/Users/user/Desktop/Практикум/сборный проект 2/logs_exp.csv', sep=\"\\t\")\n",
    "except:\n",
    "    logs = pd.read_csv('/datasets/logs_exp.csv', sep = '\\t') #  файл данных пользователей мобильного приложения\n",
    "    "
   ]
  },
  {
   "cell_type": "code",
   "execution_count": 3,
   "id": "12503bd3",
   "metadata": {},
   "outputs": [
    {
     "name": "stdout",
     "output_type": "stream",
     "text": [
      "<class 'pandas.core.frame.DataFrame'>\n",
      "RangeIndex: 244126 entries, 0 to 244125\n",
      "Data columns (total 4 columns):\n",
      " #   Column          Non-Null Count   Dtype \n",
      "---  ------          --------------   ----- \n",
      " 0   EventName       244126 non-null  object\n",
      " 1   DeviceIDHash    244126 non-null  int64 \n",
      " 2   EventTimestamp  244126 non-null  int64 \n",
      " 3   ExpId           244126 non-null  int64 \n",
      "dtypes: int64(3), object(1)\n",
      "memory usage: 7.5+ MB\n"
     ]
    },
    {
     "data": {
      "text/html": [
       "<div>\n",
       "<style scoped>\n",
       "    .dataframe tbody tr th:only-of-type {\n",
       "        vertical-align: middle;\n",
       "    }\n",
       "\n",
       "    .dataframe tbody tr th {\n",
       "        vertical-align: top;\n",
       "    }\n",
       "\n",
       "    .dataframe thead th {\n",
       "        text-align: right;\n",
       "    }\n",
       "</style>\n",
       "<table border=\"1\" class=\"dataframe\">\n",
       "  <thead>\n",
       "    <tr style=\"text-align: right;\">\n",
       "      <th></th>\n",
       "      <th>EventName</th>\n",
       "      <th>DeviceIDHash</th>\n",
       "      <th>EventTimestamp</th>\n",
       "      <th>ExpId</th>\n",
       "    </tr>\n",
       "  </thead>\n",
       "  <tbody>\n",
       "    <tr>\n",
       "      <th>0</th>\n",
       "      <td>MainScreenAppear</td>\n",
       "      <td>4575588528974610257</td>\n",
       "      <td>1564029816</td>\n",
       "      <td>246</td>\n",
       "    </tr>\n",
       "    <tr>\n",
       "      <th>1</th>\n",
       "      <td>MainScreenAppear</td>\n",
       "      <td>7416695313311560658</td>\n",
       "      <td>1564053102</td>\n",
       "      <td>246</td>\n",
       "    </tr>\n",
       "    <tr>\n",
       "      <th>2</th>\n",
       "      <td>PaymentScreenSuccessful</td>\n",
       "      <td>3518123091307005509</td>\n",
       "      <td>1564054127</td>\n",
       "      <td>248</td>\n",
       "    </tr>\n",
       "    <tr>\n",
       "      <th>3</th>\n",
       "      <td>CartScreenAppear</td>\n",
       "      <td>3518123091307005509</td>\n",
       "      <td>1564054127</td>\n",
       "      <td>248</td>\n",
       "    </tr>\n",
       "    <tr>\n",
       "      <th>4</th>\n",
       "      <td>PaymentScreenSuccessful</td>\n",
       "      <td>6217807653094995999</td>\n",
       "      <td>1564055322</td>\n",
       "      <td>248</td>\n",
       "    </tr>\n",
       "  </tbody>\n",
       "</table>\n",
       "</div>"
      ],
      "text/plain": [
       "                 EventName         DeviceIDHash  EventTimestamp  ExpId\n",
       "0         MainScreenAppear  4575588528974610257      1564029816    246\n",
       "1         MainScreenAppear  7416695313311560658      1564053102    246\n",
       "2  PaymentScreenSuccessful  3518123091307005509      1564054127    248\n",
       "3         CartScreenAppear  3518123091307005509      1564054127    248\n",
       "4  PaymentScreenSuccessful  6217807653094995999      1564055322    248"
      ]
     },
     "execution_count": 3,
     "metadata": {},
     "output_type": "execute_result"
    }
   ],
   "source": [
    "logs.info()\n",
    "logs.head(5)"
   ]
  },
  {
   "cell_type": "code",
   "execution_count": 4,
   "id": "6420c332",
   "metadata": {},
   "outputs": [],
   "source": [
    "logs.columns = logs.columns.str.lower()"
   ]
  },
  {
   "cell_type": "code",
   "execution_count": 5,
   "id": "8f852796",
   "metadata": {},
   "outputs": [],
   "source": [
    "logs = logs.rename(columns = {'expid':'group','deviceidhash':'user_id' })"
   ]
  },
  {
   "cell_type": "code",
   "execution_count": 6,
   "id": "bfa8efca",
   "metadata": {},
   "outputs": [
    {
     "data": {
      "text/html": [
       "<div>\n",
       "<style scoped>\n",
       "    .dataframe tbody tr th:only-of-type {\n",
       "        vertical-align: middle;\n",
       "    }\n",
       "\n",
       "    .dataframe tbody tr th {\n",
       "        vertical-align: top;\n",
       "    }\n",
       "\n",
       "    .dataframe thead th {\n",
       "        text-align: right;\n",
       "    }\n",
       "</style>\n",
       "<table border=\"1\" class=\"dataframe\">\n",
       "  <thead>\n",
       "    <tr style=\"text-align: right;\">\n",
       "      <th></th>\n",
       "      <th>eventname</th>\n",
       "      <th>user_id</th>\n",
       "      <th>eventtimestamp</th>\n",
       "      <th>group</th>\n",
       "    </tr>\n",
       "  </thead>\n",
       "  <tbody>\n",
       "    <tr>\n",
       "      <th>0</th>\n",
       "      <td>MainScreenAppear</td>\n",
       "      <td>4575588528974610257</td>\n",
       "      <td>1564029816</td>\n",
       "      <td>246</td>\n",
       "    </tr>\n",
       "    <tr>\n",
       "      <th>1</th>\n",
       "      <td>MainScreenAppear</td>\n",
       "      <td>7416695313311560658</td>\n",
       "      <td>1564053102</td>\n",
       "      <td>246</td>\n",
       "    </tr>\n",
       "    <tr>\n",
       "      <th>2</th>\n",
       "      <td>PaymentScreenSuccessful</td>\n",
       "      <td>3518123091307005509</td>\n",
       "      <td>1564054127</td>\n",
       "      <td>248</td>\n",
       "    </tr>\n",
       "    <tr>\n",
       "      <th>3</th>\n",
       "      <td>CartScreenAppear</td>\n",
       "      <td>3518123091307005509</td>\n",
       "      <td>1564054127</td>\n",
       "      <td>248</td>\n",
       "    </tr>\n",
       "    <tr>\n",
       "      <th>4</th>\n",
       "      <td>PaymentScreenSuccessful</td>\n",
       "      <td>6217807653094995999</td>\n",
       "      <td>1564055322</td>\n",
       "      <td>248</td>\n",
       "    </tr>\n",
       "  </tbody>\n",
       "</table>\n",
       "</div>"
      ],
      "text/plain": [
       "                 eventname              user_id  eventtimestamp  group\n",
       "0         MainScreenAppear  4575588528974610257      1564029816    246\n",
       "1         MainScreenAppear  7416695313311560658      1564053102    246\n",
       "2  PaymentScreenSuccessful  3518123091307005509      1564054127    248\n",
       "3         CartScreenAppear  3518123091307005509      1564054127    248\n",
       "4  PaymentScreenSuccessful  6217807653094995999      1564055322    248"
      ]
     },
     "execution_count": 6,
     "metadata": {},
     "output_type": "execute_result"
    }
   ],
   "source": [
    "logs.head(5)"
   ]
  },
  {
   "cell_type": "code",
   "execution_count": 7,
   "id": "4f6e7ed2",
   "metadata": {},
   "outputs": [
    {
     "data": {
      "text/plain": [
       "413"
      ]
     },
     "execution_count": 7,
     "metadata": {},
     "output_type": "execute_result"
    }
   ],
   "source": [
    "#  Проверяем исходники на явные дубликаты\n",
    "logs.duplicated().sum()"
   ]
  },
  {
   "cell_type": "code",
   "execution_count": 8,
   "id": "00bfbea5",
   "metadata": {},
   "outputs": [],
   "source": [
    "#удаляем дубликаты\n",
    "logs = logs.drop_duplicates()"
   ]
  },
  {
   "cell_type": "code",
   "execution_count": 9,
   "id": "af13a5fd",
   "metadata": {},
   "outputs": [],
   "source": [
    "# добавляем столбцы с датой+время и датой\n",
    "logs['date_time'] = pd.to_datetime(logs['eventtimestamp'], unit='s')\n",
    "logs['date'] = pd.to_datetime(logs['date_time']).dt.date\n"
   ]
  },
  {
   "cell_type": "code",
   "execution_count": 10,
   "id": "f8d07265",
   "metadata": {},
   "outputs": [
    {
     "data": {
      "text/plain": [
       "set()"
      ]
     },
     "execution_count": 10,
     "metadata": {},
     "output_type": "execute_result"
    }
   ],
   "source": [
    "# Проверяем есть ли пользователи попавшие в несколько групп теста\n",
    "groupA = logs.query('group == 246')['user_id']\n",
    "groupB = logs.query('group == 247')['user_id']\n",
    "groupC = logs.query('group == 248')['user_id']\n",
    "set(groupA) & set(groupB)& set(groupC)"
   ]
  },
  {
   "cell_type": "markdown",
   "id": "a9f32583",
   "metadata": {},
   "source": [
    "* В данных отсутствуют явные дубликаты и пропуски. Группы теста имеют уникальных пользователей. Данные приведены в соответствующие форматы. Качество данных позволяет проводит их дальнейшее исследование."
   ]
  },
  {
   "cell_type": "markdown",
   "id": "3dd9bd74",
   "metadata": {},
   "source": [
    "## Исследование данных"
   ]
  },
  {
   "cell_type": "code",
   "execution_count": 13,
   "id": "da570850",
   "metadata": {},
   "outputs": [
    {
     "data": {
      "text/plain": [
       "32.3"
      ]
     },
     "execution_count": 13,
     "metadata": {},
     "output_type": "execute_result"
    }
   ],
   "source": [
    "# Смотрим среденее количество событий на одного пользователя\n",
    "round(logs.groupby('user_id', as_index=False).agg({'eventname': 'count'})['eventname'].mean(),1)"
   ]
  },
  {
   "cell_type": "code",
   "execution_count": 14,
   "id": "d4c2658c",
   "metadata": {},
   "outputs": [
    {
     "name": "stdout",
     "output_type": "stream",
     "text": [
      "Начало теста:  2019-07-25\n",
      "Конец теста:  2019-08-07\n"
     ]
    }
   ],
   "source": [
    "# определяем минимальную и максимальную дату активности пользователей\n",
    "min_date_user = logs['date'].min()\n",
    "max_date_user = logs['date'].max()\n",
    "print('Начало теста: ',min_date_user)\n",
    "print('Конец теста: ',max_date_user)"
   ]
  },
  {
   "cell_type": "code",
   "execution_count": 15,
   "id": "c697e38b",
   "metadata": {},
   "outputs": [
    {
     "data": {
      "text/html": [
       "<div>\n",
       "<style scoped>\n",
       "    .dataframe tbody tr th:only-of-type {\n",
       "        vertical-align: middle;\n",
       "    }\n",
       "\n",
       "    .dataframe tbody tr th {\n",
       "        vertical-align: top;\n",
       "    }\n",
       "\n",
       "    .dataframe thead th {\n",
       "        text-align: right;\n",
       "    }\n",
       "</style>\n",
       "<table border=\"1\" class=\"dataframe\">\n",
       "  <thead>\n",
       "    <tr style=\"text-align: right;\">\n",
       "      <th></th>\n",
       "      <th>date</th>\n",
       "      <th>eventname</th>\n",
       "    </tr>\n",
       "  </thead>\n",
       "  <tbody>\n",
       "    <tr>\n",
       "      <th>0</th>\n",
       "      <td>2019-07-25</td>\n",
       "      <td>9</td>\n",
       "    </tr>\n",
       "    <tr>\n",
       "      <th>1</th>\n",
       "      <td>2019-07-26</td>\n",
       "      <td>31</td>\n",
       "    </tr>\n",
       "    <tr>\n",
       "      <th>2</th>\n",
       "      <td>2019-07-27</td>\n",
       "      <td>55</td>\n",
       "    </tr>\n",
       "    <tr>\n",
       "      <th>3</th>\n",
       "      <td>2019-07-28</td>\n",
       "      <td>105</td>\n",
       "    </tr>\n",
       "    <tr>\n",
       "      <th>4</th>\n",
       "      <td>2019-07-29</td>\n",
       "      <td>184</td>\n",
       "    </tr>\n",
       "    <tr>\n",
       "      <th>5</th>\n",
       "      <td>2019-07-30</td>\n",
       "      <td>412</td>\n",
       "    </tr>\n",
       "    <tr>\n",
       "      <th>6</th>\n",
       "      <td>2019-07-31</td>\n",
       "      <td>2030</td>\n",
       "    </tr>\n",
       "    <tr>\n",
       "      <th>7</th>\n",
       "      <td>2019-08-01</td>\n",
       "      <td>36141</td>\n",
       "    </tr>\n",
       "    <tr>\n",
       "      <th>8</th>\n",
       "      <td>2019-08-02</td>\n",
       "      <td>35554</td>\n",
       "    </tr>\n",
       "    <tr>\n",
       "      <th>9</th>\n",
       "      <td>2019-08-03</td>\n",
       "      <td>33282</td>\n",
       "    </tr>\n",
       "    <tr>\n",
       "      <th>10</th>\n",
       "      <td>2019-08-04</td>\n",
       "      <td>32968</td>\n",
       "    </tr>\n",
       "    <tr>\n",
       "      <th>11</th>\n",
       "      <td>2019-08-05</td>\n",
       "      <td>36058</td>\n",
       "    </tr>\n",
       "    <tr>\n",
       "      <th>12</th>\n",
       "      <td>2019-08-06</td>\n",
       "      <td>35788</td>\n",
       "    </tr>\n",
       "    <tr>\n",
       "      <th>13</th>\n",
       "      <td>2019-08-07</td>\n",
       "      <td>31096</td>\n",
       "    </tr>\n",
       "  </tbody>\n",
       "</table>\n",
       "</div>"
      ],
      "text/plain": [
       "          date  eventname\n",
       "0   2019-07-25          9\n",
       "1   2019-07-26         31\n",
       "2   2019-07-27         55\n",
       "3   2019-07-28        105\n",
       "4   2019-07-29        184\n",
       "5   2019-07-30        412\n",
       "6   2019-07-31       2030\n",
       "7   2019-08-01      36141\n",
       "8   2019-08-02      35554\n",
       "9   2019-08-03      33282\n",
       "10  2019-08-04      32968\n",
       "11  2019-08-05      36058\n",
       "12  2019-08-06      35788\n",
       "13  2019-08-07      31096"
      ]
     },
     "execution_count": 15,
     "metadata": {},
     "output_type": "execute_result"
    }
   ],
   "source": [
    "# смотрим распеределение событий за время эксперимента\n",
    "logs.groupby('date', as_index=False).agg({'eventname': 'count'})"
   ]
  },
  {
   "cell_type": "code",
   "execution_count": 16,
   "id": "0b3187e2",
   "metadata": {},
   "outputs": [
    {
     "data": {
      "image/png": "[encoded data removed]",
      "text/plain": [
       "<Figure size 864x360 with 1 Axes>"
      ]
     },
     "metadata": {
      "needs_background": "light"
     },
     "output_type": "display_data"
    }
   ],
   "source": [
    "plt.figure(figsize=(12, 5))\n",
    "logs.date.hist(bins=14)\n",
    "plt.title('Количество событий за время эксперимента')\n",
    "plt.xlabel('Дата') \n",
    "plt.ylabel('Количество');"
   ]
  },
  {
   "cell_type": "markdown",
   "id": "896b31b4",
   "metadata": {},
   "source": [
    "* Количество событий значительно отличается в первые  и вторые 7 дней теста. Возможно данные неполны или часть данных отображена позже. Для кооректной оценки результатов эксперимента неоходимо брать данные с 2019-08-01 по 2019-08-07."
   ]
  },
  {
   "cell_type": "code",
   "execution_count": 17,
   "id": "06211b4d",
   "metadata": {},
   "outputs": [
    {
     "name": "stdout",
     "output_type": "stream",
     "text": [
      "Общее количество пользователей: 7551\n",
      "Количество пользователей в группе 246: 2489\n",
      "Количество пользователей в группе 247: 2520\n",
      "Количество пользователей в группе 248: 2542\n",
      "Количество событий за 14 дней 243713\n"
     ]
    }
   ],
   "source": [
    "# Смотрим распределение пользователей в исходгых данных\n",
    "print('Общее количество пользователей:',logs.user_id.nunique())\n",
    "print('Количество пользователей в группе 246:',groupA.nunique())\n",
    "print('Количество пользователей в группе 247:',groupB.nunique())\n",
    "print('Количество пользователей в группе 248:',groupC.nunique())\n",
    "print('Количество событий за 14 дней',logs.eventname.count())"
   ]
  },
  {
   "cell_type": "code",
   "execution_count": 18,
   "id": "d1027b6b",
   "metadata": {
    "scrolled": false
   },
   "outputs": [
    {
     "name": "stdout",
     "output_type": "stream",
     "text": [
      "Общее количество пользователей: 7534\n",
      "Количество пользователей в группе 246: 2484\n",
      "Количество пользователей в группе 247: 2513\n",
      "Количество пользователей в группе 248: 2537\n",
      "Количество событий за 7 дней 240887\n"
     ]
    }
   ],
   "source": [
    "#Смотрим количество пользователей после фильтрации по дате\n",
    "logs = logs.query('date_time >= \"2019-08-01\"')\n",
    "print('Общее количество пользователей:',logs.user_id.nunique())\n",
    "print('Количество пользователей в группе 246:',logs.query('group == 246')['user_id'].nunique())\n",
    "print('Количество пользователей в группе 247:',logs.query('group == 247')['user_id'].nunique())\n",
    "print('Количество пользователей в группе 248:',logs.query('group == 248')['user_id'].nunique())\n",
    "print('Количество событий за 7 дней',logs.eventname.count())"
   ]
  },
  {
   "cell_type": "markdown",
   "id": "350450e3",
   "metadata": {},
   "source": [
    "* В результате фильтрации было потеряно около 1% данных"
   ]
  },
  {
   "cell_type": "markdown",
   "id": "24e79ca4",
   "metadata": {},
   "source": [
    "## Изучение воронки событий"
   ]
  },
  {
   "cell_type": "code",
   "execution_count": 21,
   "id": "a35bb514",
   "metadata": {},
   "outputs": [
    {
     "data": {
      "text/plain": [
       "array(['Tutorial', 'MainScreenAppear', 'OffersScreenAppear',\n",
       "       'CartScreenAppear', 'PaymentScreenSuccessful'], dtype=object)"
      ]
     },
     "execution_count": 21,
     "metadata": {},
     "output_type": "execute_result"
    }
   ],
   "source": [
    "#смотрим сколько всего различный событий в данных\n",
    "logs['eventname'].unique()"
   ]
  },
  {
   "cell_type": "code",
   "execution_count": 22,
   "id": "54e1f519",
   "metadata": {},
   "outputs": [
    {
     "data": {
      "text/plain": [
       "MainScreenAppear           117328\n",
       "OffersScreenAppear          46333\n",
       "CartScreenAppear            42303\n",
       "PaymentScreenSuccessful     33918\n",
       "Tutorial                     1005\n",
       "Name: eventname, dtype: int64"
      ]
     },
     "execution_count": 22,
     "metadata": {},
     "output_type": "execute_result"
    }
   ],
   "source": [
    "#смотрим количество событий\n",
    "logs['eventname'].value_counts()"
   ]
  },
  {
   "cell_type": "code",
   "execution_count": 33,
   "id": "f6446c62",
   "metadata": {},
   "outputs": [
    {
     "data": {
      "text/html": [
       "<div>\n",
       "<style scoped>\n",
       "    .dataframe tbody tr th:only-of-type {\n",
       "        vertical-align: middle;\n",
       "    }\n",
       "\n",
       "    .dataframe tbody tr th {\n",
       "        vertical-align: top;\n",
       "    }\n",
       "\n",
       "    .dataframe thead th {\n",
       "        text-align: right;\n",
       "    }\n",
       "</style>\n",
       "<table border=\"1\" class=\"dataframe\">\n",
       "  <thead>\n",
       "    <tr style=\"text-align: right;\">\n",
       "      <th></th>\n",
       "      <th>eventname</th>\n",
       "      <th>user_id</th>\n",
       "    </tr>\n",
       "  </thead>\n",
       "  <tbody>\n",
       "    <tr>\n",
       "      <th>4</th>\n",
       "      <td>Tutorial</td>\n",
       "      <td>840</td>\n",
       "    </tr>\n",
       "    <tr>\n",
       "      <th>3</th>\n",
       "      <td>PaymentScreenSuccessful</td>\n",
       "      <td>3539</td>\n",
       "    </tr>\n",
       "    <tr>\n",
       "      <th>0</th>\n",
       "      <td>CartScreenAppear</td>\n",
       "      <td>3734</td>\n",
       "    </tr>\n",
       "    <tr>\n",
       "      <th>2</th>\n",
       "      <td>OffersScreenAppear</td>\n",
       "      <td>4593</td>\n",
       "    </tr>\n",
       "    <tr>\n",
       "      <th>1</th>\n",
       "      <td>MainScreenAppear</td>\n",
       "      <td>7419</td>\n",
       "    </tr>\n",
       "  </tbody>\n",
       "</table>\n",
       "</div>"
      ],
      "text/plain": [
       "                 eventname  user_id\n",
       "4                 Tutorial      840\n",
       "3  PaymentScreenSuccessful     3539\n",
       "0         CartScreenAppear     3734\n",
       "2       OffersScreenAppear     4593\n",
       "1         MainScreenAppear     7419"
      ]
     },
     "execution_count": 33,
     "metadata": {},
     "output_type": "execute_result"
    }
   ],
   "source": [
    "# Смотрим сколько пользователей получило каждое событие\n",
    "funnel = logs.groupby('eventname', as_index=False).agg({'user_id': 'nunique'}).sort_values(by='user_id')\n",
    "funnel"
   ]
  },
  {
   "cell_type": "markdown",
   "id": "61905dba",
   "metadata": {},
   "source": [
    "* Так событие \"Tutorial\" имеет меньше всего пользователей и логически рассуждая не является финишным в воронке событий, то его мы исключаем из анализа данных. Остальные события образуют последовательносьт воронки событий."
   ]
  },
  {
   "cell_type": "code",
   "execution_count": 51,
   "id": "39dc2215",
   "metadata": {},
   "outputs": [
    {
     "name": "stdout",
     "output_type": "stream",
     "text": [
      "шаг первый user_id    0.6191\n",
      "dtype: float64\n",
      "шаг второй user_id    0.812976\n",
      "dtype: float64\n"
     ]
    }
   ],
   "source": [
    "#Считаем долю пользователей прошедших шаг воронки событий\n",
    "step1=funnel[funnel['eventname']=='MainScreenAppear'][['user_id']].sum()\n",
    "step2=funnel[funnel['eventname']=='OffersScreenAppear'][['user_id']].sum()\n",
    "step3=funnel[funnel['eventname']=='CartScreenAppear'][['user_id']].sum()\n",
    "step4=funnel[funnel['eventname']=='PaymentScreenSuccessful'][['user_id']].sum()\n",
    "print('шаг первый',round(step2/step1,4))\n",
    "print('шаг второй',step3/step2)"
   ]
  },
  {
   "cell_type": "code",
   "execution_count": 40,
   "id": "9b21edef",
   "metadata": {},
   "outputs": [
    {
     "name": "stdout",
     "output_type": "stream",
     "text": [
      "<class 'pandas.core.frame.DataFrame'>\n",
      "Int64Index: 1 entries, 1 to 1\n",
      "Data columns (total 1 columns):\n",
      " #   Column   Non-Null Count  Dtype\n",
      "---  ------   --------------  -----\n",
      " 0   user_id  1 non-null      int64\n",
      "dtypes: int64(1)\n",
      "memory usage: 16.0 bytes\n"
     ]
    }
   ],
   "source": [
    "s1.info()"
   ]
  },
  {
   "cell_type": "code",
   "execution_count": null,
   "id": "7e41d278",
   "metadata": {},
   "outputs": [],
   "source": []
  }
 ],
 "metadata": {
  "kernelspec": {
   "display_name": "Python 3 (ipykernel)",
   "language": "python",
   "name": "python3"
  },
  "language_info": {
   "codemirror_mode": {
    "name": "ipython",
    "version": 3
   },
   "file_extension": ".py",
   "mimetype": "text/x-python",
   "name": "python",
   "nbconvert_exporter": "python",
   "pygments_lexer": "ipython3",
   "version": "3.9.13"
  }
 },
 "nbformat": 4,
 "nbformat_minor": 5
}
